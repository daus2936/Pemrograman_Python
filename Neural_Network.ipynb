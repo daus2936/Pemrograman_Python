{
  "nbformat": 4,
  "nbformat_minor": 0,
  "metadata": {
    "colab": {
      "name": "Neural_Network.ipynb",
      "provenance": [],
      "collapsed_sections": [],
      "mount_file_id": "16miRUXOJwwbUrwaOSTVDjDR7Sop-1sVO",
      "authorship_tag": "ABX9TyPAEkfgGWCckaCDOzIVrut8",
      "include_colab_link": true
    },
    "kernelspec": {
      "name": "python3",
      "display_name": "Python 3"
    }
  },
  "cells": [
    {
      "cell_type": "markdown",
      "metadata": {
        "id": "view-in-github",
        "colab_type": "text"
      },
      "source": [
        "<a href=\"https://colab.research.google.com/github/daus2936/Pemrograman_Python/blob/main/Neural_Network.ipynb\" target=\"_parent\"><img src=\"https://colab.research.google.com/assets/colab-badge.svg\" alt=\"Open In Colab\"/></a>"
      ]
    },
    {
      "cell_type": "code",
      "metadata": {
        "id": "dt-tuC-ZKXtr",
        "colab": {
          "base_uri": "https://localhost:8080/"
        },
        "outputId": "790a6ffd-3703-4539-bf96-e6166327f399"
      },
      "source": [
        "cd /content/drive/MyDrive/3scene"
      ],
      "execution_count": null,
      "outputs": [
        {
          "output_type": "stream",
          "text": [
            "/content/drive/.shortcut-targets-by-id/1251/3scene\n"
          ],
          "name": "stdout"
        }
      ]
    },
    {
      "cell_type": "code",
      "metadata": {
        "colab": {
          "base_uri": "https://localhost:8080/"
        },
        "id": "X7fCdl0vMHu7",
        "outputId": "d77a4d3d-2f81-4a2c-8e15-373d7c5755d4"
      },
      "source": [
        "cd /content/drive/MyDrive"
      ],
      "execution_count": null,
      "outputs": [
        {
          "output_type": "stream",
          "text": [
            "/content/drive/MyDrive\n"
          ],
          "name": "stdout"
        }
      ]
    },
    {
      "cell_type": "code",
      "metadata": {
        "colab": {
          "base_uri": "https://localhost:8080/"
        },
        "id": "qyEe8OTJMR39",
        "outputId": "fe771ca2-ba6d-4f60-8460-144b068fb314"
      },
      "source": [
        "ls"
      ],
      "execution_count": null,
      "outputs": [
        {
          "output_type": "stream",
          "text": [
            "'1101190231_Firdaus Adinegoro_1.pdf'\n",
            "'1101190231_Firdaus Adinegoro_2.pdf'\n",
            "'1101190231_Firdaus Adinegoro_3.pdf'\n",
            "'1101190231_Firdaus Adinegoro_4.pdf'\n",
            "'1101190231_Firdaus Adinegoro_5.pdf'\n",
            "'1101190231_Firdaus Adinegoro.pdf'\n",
            "'1101190231 Firdaus Adinegoro TT-43-G3.pdf'\n",
            " \u001b[0m\u001b[01;36m3scene\u001b[0m@\n",
            "'64_Firdaus Adinegoro (1).pdf'\n",
            "'64_Firdaus Adinegoro (2).pdf'\n",
            "'64_Firdaus Adinegoro (3).pdf'\n",
            "'64_Firdaus Adinegoro (4).pdf'\n",
            "'64_Firdaus Adinegoro (5).pdf'\n",
            "'64_Firdaus Adinegoro.pdf'\n",
            "'BPS LFS.pdf'\n",
            " \u001b[01;34mClassroom\u001b[0m/\n",
            "'Cloud - Firdaus Adinegoro.mp4'\n",
            " \u001b[01;34mcoast\u001b[0m/\n",
            "\u001b[01;34m'Colab Notebooks'\u001b[0m/\n",
            "'contoh lomba.gdoc'\n",
            "'ESSAY  BP GROUP 12.gdoc'\n",
            "'Firdaus Adinegoro_1101190231 (1).pdf'\n",
            "'Firdaus Adinegoro_1101190231 (1).PNG'\n",
            "'Firdaus Adinegoro_1101190231_64 (1).pdf'\n",
            "'Firdaus Adinegoro_1101190231_64 (2).pdf'\n",
            "'Firdaus Adinegoro_1101190231_64.pdf'\n",
            "'Firdaus Adinegoro_1101190231_Latihan Pra UTS.pdf'\n",
            "'Firdaus Adinegoro_1101190231.pdf'\n",
            "'Firdaus Adinegoro_1101190231.PNG'\n",
            "'Firdaus Adinegoro_1101190231_TugasMatdis1.pdf'\n",
            "'Firdaus Adinegoro_1101190231_TugasMatdis2.pdf'\n",
            "'Firdaus Adinegoro_1101190231_TugasMatdis3.pdf'\n",
            "'Firdaus Adinegoro_1101190231_Tugas Quiz.pdf'\n",
            " \u001b[01;34mforest\u001b[0m/\n",
            "'format lomba.gdoc'\n",
            "'Getting started.pdf'\n",
            "'GROUP 12_ OUTLINE ESSAI COVID.gdoc'\n",
            " \u001b[01;34mhighway\u001b[0m/\n",
            " KAP.gslides\n",
            "'Kelompok Riset.gsheet'\n",
            " LOMBA.gdoc\n",
            "\u001b[01;34m'Meet Recordings'\u001b[0m/\n",
            "'nomer 1 essay,64_Firdaus Adinegoro.pdf'\n",
            "'RELASI dan FUNGSI TT43G3.gdoc'\n",
            "'Responsi Rangkaian Listrik.mp4'\n",
            "'RL modul 3.mp4'\n",
            "'teorema norton.pdf'\n",
            "'TT-10 Kelompok 6_bab 2_bab 3 (1).gdoc'\n"
          ],
          "name": "stdout"
        }
      ]
    },
    {
      "cell_type": "code",
      "metadata": {
        "id": "CFKIydNYNGXI"
      },
      "source": [
        "from sklearn.neighbors import KNeighborsClassifier\n",
        "from sklearn.model_selection import train_test_split\n",
        "from imutils import paths\n",
        "import numpy as np\n",
        "import argparse\n",
        "import imutils\n",
        "import cv2\n",
        "import os"
      ],
      "execution_count": null,
      "outputs": []
    },
    {
      "cell_type": "code",
      "metadata": {
        "id": "hOzoKL4L8gqD"
      },
      "source": [
        "def image_to_feature_vector(image, size=(32, 32)):\n",
        "\treturn cv2.resize(image, size).flatten()"
      ],
      "execution_count": null,
      "outputs": []
    },
    {
      "cell_type": "code",
      "metadata": {
        "id": "haVw47jUMTYv"
      },
      "source": [
        ""
      ],
      "execution_count": null,
      "outputs": []
    },
    {
      "cell_type": "code",
      "metadata": {
        "id": "2y3k4dVdMTWY"
      },
      "source": [
        ""
      ],
      "execution_count": null,
      "outputs": []
    },
    {
      "cell_type": "code",
      "metadata": {
        "id": "fCVdGWLYMTUF"
      },
      "source": [
        ""
      ],
      "execution_count": null,
      "outputs": []
    },
    {
      "cell_type": "code",
      "metadata": {
        "id": "etXwPpnkMTSA"
      },
      "source": [
        ""
      ],
      "execution_count": null,
      "outputs": []
    },
    {
      "cell_type": "code",
      "metadata": {
        "id": "QoWnWt15MTPU"
      },
      "source": [
        ""
      ],
      "execution_count": null,
      "outputs": []
    },
    {
      "cell_type": "code",
      "metadata": {
        "id": "aUFebEzrMTM5"
      },
      "source": [
        ""
      ],
      "execution_count": null,
      "outputs": []
    },
    {
      "cell_type": "code",
      "metadata": {
        "id": "O82OoUS5MTKU"
      },
      "source": [
        ""
      ],
      "execution_count": null,
      "outputs": []
    },
    {
      "cell_type": "code",
      "metadata": {
        "id": "D4GN9VS5MTF1"
      },
      "source": [
        ""
      ],
      "execution_count": null,
      "outputs": []
    },
    {
      "cell_type": "code",
      "metadata": {
        "id": "rE7njOsYMS6v"
      },
      "source": [
        ""
      ],
      "execution_count": null,
      "outputs": []
    },
    {
      "cell_type": "code",
      "metadata": {
        "id": "LKT0aKgdMS0e"
      },
      "source": [
        ""
      ],
      "execution_count": null,
      "outputs": []
    }
  ]
}